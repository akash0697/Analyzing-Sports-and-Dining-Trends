{
 "cells": [
  {
   "cell_type": "code",
   "execution_count": 56,
   "id": "0a176563-bf96-4747-9dd5-732e2e04e6b8",
   "metadata": {
    "execution": {
     "iopub.execute_input": "2025-03-03T20:11:15.002687Z",
     "iopub.status.busy": "2025-03-03T20:11:15.002361Z",
     "iopub.status.idle": "2025-03-03T20:11:15.005496Z",
     "shell.execute_reply": "2025-03-03T20:11:15.004967Z",
     "shell.execute_reply.started": "2025-03-03T20:11:15.002664Z"
    }
   },
   "outputs": [],
   "source": [
    "import pandas as pd"
   ]
  },
  {
   "cell_type": "code",
   "execution_count": 5,
   "id": "e8815c42-2250-48d0-8328-47ee752cda15",
   "metadata": {
    "execution": {
     "iopub.execute_input": "2025-03-03T17:47:21.841491Z",
     "iopub.status.busy": "2025-03-03T17:47:21.841154Z",
     "iopub.status.idle": "2025-03-03T17:51:48.514556Z",
     "shell.execute_reply": "2025-03-03T17:51:48.514026Z",
     "shell.execute_reply.started": "2025-03-03T17:47:21.841468Z"
    }
   },
   "outputs": [
    {
     "data": {
      "text/html": [
       "<div>\n",
       "<style scoped>\n",
       "    .dataframe tbody tr th:only-of-type {\n",
       "        vertical-align: middle;\n",
       "    }\n",
       "\n",
       "    .dataframe tbody tr th {\n",
       "        vertical-align: top;\n",
       "    }\n",
       "\n",
       "    .dataframe thead th {\n",
       "        text-align: right;\n",
       "    }\n",
       "</style>\n",
       "<table border=\"1\" class=\"dataframe\">\n",
       "  <thead>\n",
       "    <tr style=\"text-align: right;\">\n",
       "      <th></th>\n",
       "      <th>review_id</th>\n",
       "      <th>user_id</th>\n",
       "      <th>business_id</th>\n",
       "      <th>stars</th>\n",
       "      <th>useful</th>\n",
       "      <th>funny</th>\n",
       "      <th>cool</th>\n",
       "      <th>text</th>\n",
       "      <th>date</th>\n",
       "    </tr>\n",
       "  </thead>\n",
       "  <tbody>\n",
       "    <tr>\n",
       "      <th>0</th>\n",
       "      <td>KU_O5udG6zpxOg-VcAEodg</td>\n",
       "      <td>mh_-eMZ6K5RLWhZyISBhwA</td>\n",
       "      <td>XQfwVwDr-v0ZS3_CbbE5Xw</td>\n",
       "      <td>3</td>\n",
       "      <td>0</td>\n",
       "      <td>0</td>\n",
       "      <td>0</td>\n",
       "      <td>If you decide to eat here, just be aware it is...</td>\n",
       "      <td>2018-07-07 22:09:11</td>\n",
       "    </tr>\n",
       "    <tr>\n",
       "      <th>1</th>\n",
       "      <td>BiTunyQ73aT9WBnpR9DZGw</td>\n",
       "      <td>OyoGAe7OKpv6SyGZT5g77Q</td>\n",
       "      <td>7ATYjTIgM3jUlt4UM3IypQ</td>\n",
       "      <td>5</td>\n",
       "      <td>1</td>\n",
       "      <td>0</td>\n",
       "      <td>1</td>\n",
       "      <td>I've taken a lot of spin classes over the year...</td>\n",
       "      <td>2012-01-03 15:28:18</td>\n",
       "    </tr>\n",
       "    <tr>\n",
       "      <th>2</th>\n",
       "      <td>saUsX_uimxRlCVr67Z4Jig</td>\n",
       "      <td>8g_iMtfSiwikVnbP2etR0A</td>\n",
       "      <td>YjUWPpI6HXG530lwP-fb2A</td>\n",
       "      <td>3</td>\n",
       "      <td>0</td>\n",
       "      <td>0</td>\n",
       "      <td>0</td>\n",
       "      <td>Family diner. Had the buffet. Eclectic assortm...</td>\n",
       "      <td>2014-02-05 20:30:30</td>\n",
       "    </tr>\n",
       "    <tr>\n",
       "      <th>3</th>\n",
       "      <td>AqPFMleE6RsU23_auESxiA</td>\n",
       "      <td>_7bHUi9Uuf5__HHc_Q8guQ</td>\n",
       "      <td>kxX2SOes4o-D3ZQBkiMRfA</td>\n",
       "      <td>5</td>\n",
       "      <td>1</td>\n",
       "      <td>0</td>\n",
       "      <td>1</td>\n",
       "      <td>Wow!  Yummy, different,  delicious.   Our favo...</td>\n",
       "      <td>2015-01-04 00:01:03</td>\n",
       "    </tr>\n",
       "    <tr>\n",
       "      <th>4</th>\n",
       "      <td>Sx8TMOWLNuJBWer-0pcmoA</td>\n",
       "      <td>bcjbaE6dDog4jkNY91ncLQ</td>\n",
       "      <td>e4Vwtrqf-wpJfwesgvdgxQ</td>\n",
       "      <td>4</td>\n",
       "      <td>1</td>\n",
       "      <td>0</td>\n",
       "      <td>1</td>\n",
       "      <td>Cute interior and owner (?) gave us tour of up...</td>\n",
       "      <td>2017-01-14 20:54:15</td>\n",
       "    </tr>\n",
       "  </tbody>\n",
       "</table>\n",
       "</div>"
      ],
      "text/plain": [
       "                review_id                 user_id             business_id  \\\n",
       "0  KU_O5udG6zpxOg-VcAEodg  mh_-eMZ6K5RLWhZyISBhwA  XQfwVwDr-v0ZS3_CbbE5Xw   \n",
       "1  BiTunyQ73aT9WBnpR9DZGw  OyoGAe7OKpv6SyGZT5g77Q  7ATYjTIgM3jUlt4UM3IypQ   \n",
       "2  saUsX_uimxRlCVr67Z4Jig  8g_iMtfSiwikVnbP2etR0A  YjUWPpI6HXG530lwP-fb2A   \n",
       "3  AqPFMleE6RsU23_auESxiA  _7bHUi9Uuf5__HHc_Q8guQ  kxX2SOes4o-D3ZQBkiMRfA   \n",
       "4  Sx8TMOWLNuJBWer-0pcmoA  bcjbaE6dDog4jkNY91ncLQ  e4Vwtrqf-wpJfwesgvdgxQ   \n",
       "\n",
       "   stars  useful  funny  cool  \\\n",
       "0      3       0      0     0   \n",
       "1      5       1      0     1   \n",
       "2      3       0      0     0   \n",
       "3      5       1      0     1   \n",
       "4      4       1      0     1   \n",
       "\n",
       "                                                text                 date  \n",
       "0  If you decide to eat here, just be aware it is...  2018-07-07 22:09:11  \n",
       "1  I've taken a lot of spin classes over the year...  2012-01-03 15:28:18  \n",
       "2  Family diner. Had the buffet. Eclectic assortm...  2014-02-05 20:30:30  \n",
       "3  Wow!  Yummy, different,  delicious.   Our favo...  2015-01-04 00:01:03  \n",
       "4  Cute interior and owner (?) gave us tour of up...  2017-01-14 20:54:15  "
      ]
     },
     "execution_count": 5,
     "metadata": {},
     "output_type": "execute_result"
    }
   ],
   "source": [
    "df = pd.read_csv(\"s3://amazon-sagemaker-058264306111-us-east-1-e23504aef6c5/dzd_5l5kah6gnsnq3r/bpy4qb7wovbqjr//dev//review_output.csv\")\n",
    "df.head()"
   ]
  },
  {
   "cell_type": "code",
   "execution_count": 57,
   "id": "67e17872-d237-4b1c-bd6a-f611322d4d47",
   "metadata": {
    "execution": {
     "iopub.execute_input": "2025-03-03T20:11:24.368742Z",
     "iopub.status.busy": "2025-03-03T20:11:24.368418Z",
     "iopub.status.idle": "2025-03-03T20:11:24.398829Z",
     "shell.execute_reply": "2025-03-03T20:11:24.398298Z",
     "shell.execute_reply.started": "2025-03-03T20:11:24.368719Z"
    }
   },
   "outputs": [],
   "source": [
    "# Convert date column to datetime format\n",
    "df[\"date\"] = pd.to_datetime(df[\"date\"], format=\"%Y-%m-%d %H:%M:%S\")"
   ]
  },
  {
   "cell_type": "code",
   "execution_count": 7,
   "id": "bd1437d6-7206-42d3-b81e-a50af1ad87c5",
   "metadata": {
    "execution": {
     "iopub.execute_input": "2025-03-03T17:52:26.747797Z",
     "iopub.status.busy": "2025-03-03T17:52:26.747446Z",
     "iopub.status.idle": "2025-03-03T17:52:26.768070Z",
     "shell.execute_reply": "2025-03-03T17:52:26.767519Z",
     "shell.execute_reply.started": "2025-03-03T17:52:26.747774Z"
    }
   },
   "outputs": [
    {
     "name": "stdout",
     "output_type": "stream",
     "text": [
      "Earliest date in the date column: 2005-02-16 03:23:22\n"
     ]
    }
   ],
   "source": [
    "# find minimum date\n",
    "# Assuming your dataframe is loaded as df and the 'date' column is in datetime format\n",
    "earliest_date = df['date'].min()\n",
    "print(\"Earliest date in the date column:\", earliest_date)\n"
   ]
  },
  {
   "cell_type": "code",
   "execution_count": 9,
   "id": "9b7879bc-7519-4c55-85ae-7f658501229b",
   "metadata": {
    "execution": {
     "iopub.execute_input": "2025-03-03T17:53:31.659878Z",
     "iopub.status.busy": "2025-03-03T17:53:31.659520Z",
     "iopub.status.idle": "2025-03-03T17:53:31.678529Z",
     "shell.execute_reply": "2025-03-03T17:53:31.677926Z",
     "shell.execute_reply.started": "2025-03-03T17:53:31.659855Z"
    }
   },
   "outputs": [
    {
     "name": "stdout",
     "output_type": "stream",
     "text": [
      "Most recent date in the date column: 2022-01-19 19:48:45\n"
     ]
    }
   ],
   "source": [
    "# find maximum date\n",
    "import pandas as pd\n",
    "\n",
    "# Assuming your dataframe is loaded as df\n",
    "most_recent_date = df['date'].max()\n",
    "print(\"Most recent date in the date column:\", most_recent_date)\n"
   ]
  },
  {
   "cell_type": "code",
   "execution_count": 10,
   "id": "ebb7de62-9d61-4351-a641-4491f562ab02",
   "metadata": {
    "execution": {
     "iopub.execute_input": "2025-03-03T17:56:08.398381Z",
     "iopub.status.busy": "2025-03-03T17:56:08.398049Z",
     "iopub.status.idle": "2025-03-03T17:56:15.052829Z",
     "shell.execute_reply": "2025-03-03T17:56:15.052188Z",
     "shell.execute_reply.started": "2025-03-03T17:56:08.398359Z"
    }
   },
   "outputs": [],
   "source": [
    "# Read in business df\n",
    "business_df = pd.read_csv(\"s3://amazon-sagemaker-058264306111-us-east-1-e23504aef6c5/dzd_5l5kah6gnsnq3r/bpy4qb7wovbqjr//dev//business_output.csv\")"
   ]
  },
  {
   "cell_type": "code",
   "execution_count": 11,
   "id": "894cb6fe-12c0-4112-8e12-b633851c94d5",
   "metadata": {
    "execution": {
     "iopub.execute_input": "2025-03-03T17:56:27.203909Z",
     "iopub.status.busy": "2025-03-03T17:56:27.203542Z",
     "iopub.status.idle": "2025-03-03T17:56:27.215982Z",
     "shell.execute_reply": "2025-03-03T17:56:27.215363Z",
     "shell.execute_reply.started": "2025-03-03T17:56:27.203886Z"
    }
   },
   "outputs": [
    {
     "data": {
      "text/html": [
       "<div>\n",
       "<style scoped>\n",
       "    .dataframe tbody tr th:only-of-type {\n",
       "        vertical-align: middle;\n",
       "    }\n",
       "\n",
       "    .dataframe tbody tr th {\n",
       "        vertical-align: top;\n",
       "    }\n",
       "\n",
       "    .dataframe thead th {\n",
       "        text-align: right;\n",
       "    }\n",
       "</style>\n",
       "<table border=\"1\" class=\"dataframe\">\n",
       "  <thead>\n",
       "    <tr style=\"text-align: right;\">\n",
       "      <th></th>\n",
       "      <th>business_id</th>\n",
       "      <th>name</th>\n",
       "      <th>address</th>\n",
       "      <th>city</th>\n",
       "      <th>state</th>\n",
       "      <th>postal_code</th>\n",
       "      <th>latitude</th>\n",
       "      <th>longitude</th>\n",
       "      <th>stars</th>\n",
       "      <th>review_count</th>\n",
       "      <th>is_open</th>\n",
       "      <th>attributes</th>\n",
       "      <th>categories</th>\n",
       "      <th>hours</th>\n",
       "    </tr>\n",
       "  </thead>\n",
       "  <tbody>\n",
       "    <tr>\n",
       "      <th>0</th>\n",
       "      <td>Pns2l4eNsfO8kk83dixA6A</td>\n",
       "      <td>Abby Rappoport, LAC, CMQ</td>\n",
       "      <td>1616 Chapala St, Ste 2</td>\n",
       "      <td>Santa Barbara</td>\n",
       "      <td>CA</td>\n",
       "      <td>93101</td>\n",
       "      <td>34.426679</td>\n",
       "      <td>-119.711197</td>\n",
       "      <td>5.0</td>\n",
       "      <td>7</td>\n",
       "      <td>0</td>\n",
       "      <td>{'ByAppointmentOnly': 'True'}</td>\n",
       "      <td>Doctors, Traditional Chinese Medicine, Naturop...</td>\n",
       "      <td>NaN</td>\n",
       "    </tr>\n",
       "    <tr>\n",
       "      <th>1</th>\n",
       "      <td>mpf3x-BjTdTEA3yCZrAYPw</td>\n",
       "      <td>The UPS Store</td>\n",
       "      <td>87 Grasso Plaza Shopping Center</td>\n",
       "      <td>Affton</td>\n",
       "      <td>MO</td>\n",
       "      <td>63123</td>\n",
       "      <td>38.551126</td>\n",
       "      <td>-90.335695</td>\n",
       "      <td>3.0</td>\n",
       "      <td>15</td>\n",
       "      <td>1</td>\n",
       "      <td>{'BusinessAcceptsCreditCards': 'True'}</td>\n",
       "      <td>Shipping Centers, Local Services, Notaries, Ma...</td>\n",
       "      <td>{'Monday': '0:0-0:0', 'Tuesday': '8:0-18:30', ...</td>\n",
       "    </tr>\n",
       "    <tr>\n",
       "      <th>2</th>\n",
       "      <td>tUFrWirKiKi_TAnsVWINQQ</td>\n",
       "      <td>Target</td>\n",
       "      <td>5255 E Broadway Blvd</td>\n",
       "      <td>Tucson</td>\n",
       "      <td>AZ</td>\n",
       "      <td>85711</td>\n",
       "      <td>32.223236</td>\n",
       "      <td>-110.880452</td>\n",
       "      <td>3.5</td>\n",
       "      <td>22</td>\n",
       "      <td>0</td>\n",
       "      <td>{'BikeParking': 'True', 'BusinessAcceptsCredit...</td>\n",
       "      <td>Department Stores, Shopping, Fashion, Home &amp; G...</td>\n",
       "      <td>{'Monday': '8:0-22:0', 'Tuesday': '8:0-22:0', ...</td>\n",
       "    </tr>\n",
       "    <tr>\n",
       "      <th>3</th>\n",
       "      <td>MTSW4McQd7CbVtyjqoe9mw</td>\n",
       "      <td>St Honore Pastries</td>\n",
       "      <td>935 Race St</td>\n",
       "      <td>Philadelphia</td>\n",
       "      <td>PA</td>\n",
       "      <td>19107</td>\n",
       "      <td>39.955505</td>\n",
       "      <td>-75.155564</td>\n",
       "      <td>4.0</td>\n",
       "      <td>80</td>\n",
       "      <td>1</td>\n",
       "      <td>{'RestaurantsDelivery': 'False', 'OutdoorSeati...</td>\n",
       "      <td>Restaurants, Food, Bubble Tea, Coffee &amp; Tea, B...</td>\n",
       "      <td>{'Monday': '7:0-20:0', 'Tuesday': '7:0-20:0', ...</td>\n",
       "    </tr>\n",
       "    <tr>\n",
       "      <th>4</th>\n",
       "      <td>mWMc6_wTdE0EUBKIGXDVfA</td>\n",
       "      <td>Perkiomen Valley Brewery</td>\n",
       "      <td>101 Walnut St</td>\n",
       "      <td>Green Lane</td>\n",
       "      <td>PA</td>\n",
       "      <td>18054</td>\n",
       "      <td>40.338183</td>\n",
       "      <td>-75.471659</td>\n",
       "      <td>4.5</td>\n",
       "      <td>13</td>\n",
       "      <td>1</td>\n",
       "      <td>{'BusinessAcceptsCreditCards': 'True', 'Wheelc...</td>\n",
       "      <td>Brewpubs, Breweries, Food</td>\n",
       "      <td>{'Wednesday': '14:0-22:0', 'Thursday': '16:0-2...</td>\n",
       "    </tr>\n",
       "  </tbody>\n",
       "</table>\n",
       "</div>"
      ],
      "text/plain": [
       "              business_id                      name  \\\n",
       "0  Pns2l4eNsfO8kk83dixA6A  Abby Rappoport, LAC, CMQ   \n",
       "1  mpf3x-BjTdTEA3yCZrAYPw             The UPS Store   \n",
       "2  tUFrWirKiKi_TAnsVWINQQ                    Target   \n",
       "3  MTSW4McQd7CbVtyjqoe9mw        St Honore Pastries   \n",
       "4  mWMc6_wTdE0EUBKIGXDVfA  Perkiomen Valley Brewery   \n",
       "\n",
       "                           address           city state postal_code  \\\n",
       "0           1616 Chapala St, Ste 2  Santa Barbara    CA       93101   \n",
       "1  87 Grasso Plaza Shopping Center         Affton    MO       63123   \n",
       "2             5255 E Broadway Blvd         Tucson    AZ       85711   \n",
       "3                      935 Race St   Philadelphia    PA       19107   \n",
       "4                    101 Walnut St     Green Lane    PA       18054   \n",
       "\n",
       "    latitude   longitude  stars  review_count  is_open  \\\n",
       "0  34.426679 -119.711197    5.0             7        0   \n",
       "1  38.551126  -90.335695    3.0            15        1   \n",
       "2  32.223236 -110.880452    3.5            22        0   \n",
       "3  39.955505  -75.155564    4.0            80        1   \n",
       "4  40.338183  -75.471659    4.5            13        1   \n",
       "\n",
       "                                          attributes  \\\n",
       "0                      {'ByAppointmentOnly': 'True'}   \n",
       "1             {'BusinessAcceptsCreditCards': 'True'}   \n",
       "2  {'BikeParking': 'True', 'BusinessAcceptsCredit...   \n",
       "3  {'RestaurantsDelivery': 'False', 'OutdoorSeati...   \n",
       "4  {'BusinessAcceptsCreditCards': 'True', 'Wheelc...   \n",
       "\n",
       "                                          categories  \\\n",
       "0  Doctors, Traditional Chinese Medicine, Naturop...   \n",
       "1  Shipping Centers, Local Services, Notaries, Ma...   \n",
       "2  Department Stores, Shopping, Fashion, Home & G...   \n",
       "3  Restaurants, Food, Bubble Tea, Coffee & Tea, B...   \n",
       "4                          Brewpubs, Breweries, Food   \n",
       "\n",
       "                                               hours  \n",
       "0                                                NaN  \n",
       "1  {'Monday': '0:0-0:0', 'Tuesday': '8:0-18:30', ...  \n",
       "2  {'Monday': '8:0-22:0', 'Tuesday': '8:0-22:0', ...  \n",
       "3  {'Monday': '7:0-20:0', 'Tuesday': '7:0-20:0', ...  \n",
       "4  {'Wednesday': '14:0-22:0', 'Thursday': '16:0-2...  "
      ]
     },
     "execution_count": 11,
     "metadata": {},
     "output_type": "execute_result"
    }
   ],
   "source": [
    "business_df.head()"
   ]
  },
  {
   "cell_type": "code",
   "execution_count": 12,
   "id": "2d6beaaf-bcac-486f-8fcf-d577d62643a4",
   "metadata": {
    "execution": {
     "iopub.execute_input": "2025-03-03T17:58:08.939818Z",
     "iopub.status.busy": "2025-03-03T17:58:08.939474Z",
     "iopub.status.idle": "2025-03-03T17:58:08.948367Z",
     "shell.execute_reply": "2025-03-03T17:58:08.947827Z",
     "shell.execute_reply.started": "2025-03-03T17:58:08.939794Z"
    }
   },
   "outputs": [
    {
     "name": "stdout",
     "output_type": "stream",
     "text": [
      "['CA' 'MO' 'AZ' 'PA' 'TN' 'FL' 'IN' 'LA' 'AB' 'NV' 'ID' 'DE' 'IL' 'NJ'\n",
      " 'NC' 'CO' 'WA' 'HI' 'UT' 'TX' 'MT' 'MI' 'SD' 'XMS' 'MA' 'VI' 'VT']\n"
     ]
    }
   ],
   "source": [
    "unique_states = business_df['state'].unique()\n",
    "print(unique_states)\n"
   ]
  },
  {
   "cell_type": "code",
   "execution_count": 13,
   "id": "3e84f115-6bc0-45d1-965f-5d0c7dcf4416",
   "metadata": {
    "execution": {
     "iopub.execute_input": "2025-03-03T18:03:03.524424Z",
     "iopub.status.busy": "2025-03-03T18:03:03.524086Z",
     "iopub.status.idle": "2025-03-03T18:03:07.102283Z",
     "shell.execute_reply": "2025-03-03T18:03:07.101702Z",
     "shell.execute_reply.started": "2025-03-03T18:03:03.524401Z"
    }
   },
   "outputs": [],
   "source": [
    "merged_df = pd.merge(df, business_df, on=\"business_id\", how=\"inner\")"
   ]
  },
  {
   "cell_type": "code",
   "execution_count": null,
   "id": "31000506-5a28-4879-b686-44e238cadaa7",
   "metadata": {},
   "outputs": [],
   "source": []
  },
  {
   "cell_type": "code",
   "execution_count": 58,
   "id": "18163d1d-9010-4e58-b00f-888431333ab4",
   "metadata": {
    "execution": {
     "iopub.execute_input": "2025-03-03T20:11:49.520539Z",
     "iopub.status.busy": "2025-03-03T20:11:49.520212Z",
     "iopub.status.idle": "2025-03-03T20:11:49.528485Z",
     "shell.execute_reply": "2025-03-03T20:11:49.527910Z",
     "shell.execute_reply.started": "2025-03-03T20:11:49.520519Z"
    }
   },
   "outputs": [
    {
     "name": "stdout",
     "output_type": "stream",
     "text": [
      "<class 'pandas.core.frame.DataFrame'>\n",
      "RangeIndex: 6990280 entries, 0 to 6990279\n",
      "Data columns (total 22 columns):\n",
      " #   Column        Dtype         \n",
      "---  ------        -----         \n",
      " 0   review_id     object        \n",
      " 1   user_id       object        \n",
      " 2   business_id   object        \n",
      " 3   stars_x       int64         \n",
      " 4   useful        int64         \n",
      " 5   funny         int64         \n",
      " 6   cool          int64         \n",
      " 7   text          object        \n",
      " 8   date          datetime64[ns]\n",
      " 9   name          object        \n",
      " 10  address       object        \n",
      " 11  city          object        \n",
      " 12  state         object        \n",
      " 13  postal_code   object        \n",
      " 14  latitude      float64       \n",
      " 15  longitude     float64       \n",
      " 16  stars_y       float64       \n",
      " 17  review_count  int64         \n",
      " 18  is_open       int64         \n",
      " 19  attributes    object        \n",
      " 20  categories    object        \n",
      " 21  hours         object        \n",
      "dtypes: datetime64[ns](1), float64(3), int64(6), object(12)\n",
      "memory usage: 1.1+ GB\n"
     ]
    }
   ],
   "source": [
    "merged_df.info()"
   ]
  },
  {
   "cell_type": "code",
   "execution_count": 59,
   "id": "b62aa49f-2d1d-4420-b94e-517ee3fbb351",
   "metadata": {
    "execution": {
     "iopub.execute_input": "2025-03-03T20:12:09.701310Z",
     "iopub.status.busy": "2025-03-03T20:12:09.700990Z",
     "iopub.status.idle": "2025-03-03T20:12:36.019204Z",
     "shell.execute_reply": "2025-03-03T20:12:36.018641Z",
     "shell.execute_reply.started": "2025-03-03T20:12:09.701286Z"
    }
   },
   "outputs": [],
   "source": [
    "merged_filtered_df = merged_df[\n",
    "    merged_df['attributes'].str.contains(\"'HasTV': 'True'\", case=False, na=False) &\n",
    "    merged_df['categories'].str.contains(r\"(Restaurants|Bar|American|Food|Beer)\", case=False, na=False) &\n",
    "    merged_df['state'].isin(['MO', 'AZ', 'TN', 'IN', 'LA', 'IL', 'NC', 'CO', 'WA', 'MI', 'MA'])\n",
    "]"
   ]
  },
  {
   "cell_type": "code",
   "execution_count": 60,
   "id": "f2dddcbf-d20c-4005-bbbb-c78d02aeb670",
   "metadata": {
    "execution": {
     "iopub.execute_input": "2025-03-03T20:12:44.980492Z",
     "iopub.status.busy": "2025-03-03T20:12:44.980171Z",
     "iopub.status.idle": "2025-03-03T20:12:45.639359Z",
     "shell.execute_reply": "2025-03-03T20:12:45.638824Z",
     "shell.execute_reply.started": "2025-03-03T20:12:44.980471Z"
    }
   },
   "outputs": [],
   "source": [
    "# Filter the DataFrame to only include dates before April 1, 2020\n",
    "merged_filtered_df = merged_filtered_df[merged_filtered_df['date'] < '2020-04-01']\n",
    "\n",
    "merged_filtered_df = merged_filtered_df.drop(columns=[\n",
    "    \"address\", \"name\", \"city\", \"postal_code\", \"latitude\", \"longitude\", \"is_open\", \"hours\"\n",
    "])"
   ]
  },
  {
   "cell_type": "code",
   "execution_count": 61,
   "id": "c92da336-d0b2-4628-9e3c-9a9d0b27100c",
   "metadata": {
    "execution": {
     "iopub.execute_input": "2025-03-03T20:12:48.944728Z",
     "iopub.status.busy": "2025-03-03T20:12:48.944380Z",
     "iopub.status.idle": "2025-03-03T20:12:49.568756Z",
     "shell.execute_reply": "2025-03-03T20:12:49.568175Z",
     "shell.execute_reply.started": "2025-03-03T20:12:48.944706Z"
    }
   },
   "outputs": [
    {
     "name": "stdout",
     "output_type": "stream",
     "text": [
      "<class 'pandas.core.frame.DataFrame'>\n",
      "Index: 1288597 entries, 2 to 6990279\n",
      "Data columns (total 14 columns):\n",
      " #   Column        Non-Null Count    Dtype         \n",
      "---  ------        --------------    -----         \n",
      " 0   review_id     1288597 non-null  object        \n",
      " 1   user_id       1288597 non-null  object        \n",
      " 2   business_id   1288597 non-null  object        \n",
      " 3   stars_x       1288597 non-null  int64         \n",
      " 4   useful        1288597 non-null  int64         \n",
      " 5   funny         1288597 non-null  int64         \n",
      " 6   cool          1288597 non-null  int64         \n",
      " 7   text          1288597 non-null  object        \n",
      " 8   date          1288597 non-null  datetime64[ns]\n",
      " 9   state         1288597 non-null  object        \n",
      " 10  stars_y       1288597 non-null  float64       \n",
      " 11  review_count  1288597 non-null  int64         \n",
      " 12  attributes    1288597 non-null  object        \n",
      " 13  categories    1288597 non-null  object        \n",
      "dtypes: datetime64[ns](1), float64(1), int64(5), object(7)\n",
      "memory usage: 147.5+ MB\n"
     ]
    }
   ],
   "source": [
    "merged_filtered_df.info()"
   ]
  },
  {
   "cell_type": "code",
   "execution_count": 62,
   "id": "5e154c88-f11d-421d-8dd6-3a98ac5ee1c1",
   "metadata": {
    "execution": {
     "iopub.execute_input": "2025-03-03T20:14:11.533572Z",
     "iopub.status.busy": "2025-03-03T20:14:11.533247Z",
     "iopub.status.idle": "2025-03-03T20:30:22.685150Z",
     "shell.execute_reply": "2025-03-03T20:30:22.684233Z",
     "shell.execute_reply.started": "2025-03-03T20:14:11.533551Z"
    }
   },
   "outputs": [
    {
     "name": "stderr",
     "output_type": "stream",
     "text": [
      "[nltk_data] Downloading package vader_lexicon to /home/sagemaker-\n",
      "[nltk_data]     user/nltk_data...\n",
      "[nltk_data]   Package vader_lexicon is already up-to-date!\n"
     ]
    },
    {
     "ename": "KeyboardInterrupt",
     "evalue": "",
     "output_type": "error",
     "traceback": [
      "\u001b[0;31m---------------------------------------------------------------------------\u001b[0m",
      "\u001b[0;31mKeyboardInterrupt\u001b[0m                         Traceback (most recent call last)",
      "Cell \u001b[0;32mIn[62], line 11\u001b[0m\n\u001b[1;32m      8\u001b[0m sia \u001b[38;5;241m=\u001b[39m SentimentIntensityAnalyzer()\n\u001b[1;32m     10\u001b[0m \u001b[38;5;66;03m# Compute sentiment polarity scores\u001b[39;00m\n\u001b[0;32m---> 11\u001b[0m merged_filtered_df[\u001b[38;5;124m\"\u001b[39m\u001b[38;5;124msentiment_polarity\u001b[39m\u001b[38;5;124m\"\u001b[39m] \u001b[38;5;241m=\u001b[39m \u001b[43mmerged_filtered_df\u001b[49m\u001b[43m[\u001b[49m\u001b[38;5;124;43m\"\u001b[39;49m\u001b[38;5;124;43mtext\u001b[39;49m\u001b[38;5;124;43m\"\u001b[39;49m\u001b[43m]\u001b[49m\u001b[38;5;241;43m.\u001b[39;49m\u001b[43mastype\u001b[49m\u001b[43m(\u001b[49m\u001b[38;5;28;43mstr\u001b[39;49m\u001b[43m)\u001b[49m\u001b[38;5;241;43m.\u001b[39;49m\u001b[43mapply\u001b[49m\u001b[43m(\u001b[49m\u001b[38;5;28;43;01mlambda\u001b[39;49;00m\u001b[43m \u001b[49m\u001b[43mx\u001b[49m\u001b[43m:\u001b[49m\u001b[43m \u001b[49m\u001b[43msia\u001b[49m\u001b[38;5;241;43m.\u001b[39;49m\u001b[43mpolarity_scores\u001b[49m\u001b[43m(\u001b[49m\u001b[43mx\u001b[49m\u001b[43m)\u001b[49m\u001b[43m[\u001b[49m\u001b[38;5;124;43m\"\u001b[39;49m\u001b[38;5;124;43mcompound\u001b[39;49m\u001b[38;5;124;43m\"\u001b[39;49m\u001b[43m]\u001b[49m\u001b[43m)\u001b[49m\n",
      "File \u001b[0;32m/opt/conda/lib/python3.11/site-packages/pandas/core/series.py:4924\u001b[0m, in \u001b[0;36mSeries.apply\u001b[0;34m(self, func, convert_dtype, args, by_row, **kwargs)\u001b[0m\n\u001b[1;32m   4789\u001b[0m \u001b[38;5;28;01mdef\u001b[39;00m\u001b[38;5;250m \u001b[39m\u001b[38;5;21mapply\u001b[39m(\n\u001b[1;32m   4790\u001b[0m     \u001b[38;5;28mself\u001b[39m,\n\u001b[1;32m   4791\u001b[0m     func: AggFuncType,\n\u001b[0;32m   (...)\u001b[0m\n\u001b[1;32m   4796\u001b[0m     \u001b[38;5;241m*\u001b[39m\u001b[38;5;241m*\u001b[39mkwargs,\n\u001b[1;32m   4797\u001b[0m ) \u001b[38;5;241m-\u001b[39m\u001b[38;5;241m>\u001b[39m DataFrame \u001b[38;5;241m|\u001b[39m Series:\n\u001b[1;32m   4798\u001b[0m \u001b[38;5;250m    \u001b[39m\u001b[38;5;124;03m\"\"\"\u001b[39;00m\n\u001b[1;32m   4799\u001b[0m \u001b[38;5;124;03m    Invoke function on values of Series.\u001b[39;00m\n\u001b[1;32m   4800\u001b[0m \n\u001b[0;32m   (...)\u001b[0m\n\u001b[1;32m   4915\u001b[0m \u001b[38;5;124;03m    dtype: float64\u001b[39;00m\n\u001b[1;32m   4916\u001b[0m \u001b[38;5;124;03m    \"\"\"\u001b[39;00m\n\u001b[1;32m   4917\u001b[0m     \u001b[38;5;28;01mreturn\u001b[39;00m \u001b[43mSeriesApply\u001b[49m\u001b[43m(\u001b[49m\n\u001b[1;32m   4918\u001b[0m \u001b[43m        \u001b[49m\u001b[38;5;28;43mself\u001b[39;49m\u001b[43m,\u001b[49m\n\u001b[1;32m   4919\u001b[0m \u001b[43m        \u001b[49m\u001b[43mfunc\u001b[49m\u001b[43m,\u001b[49m\n\u001b[1;32m   4920\u001b[0m \u001b[43m        \u001b[49m\u001b[43mconvert_dtype\u001b[49m\u001b[38;5;241;43m=\u001b[39;49m\u001b[43mconvert_dtype\u001b[49m\u001b[43m,\u001b[49m\n\u001b[1;32m   4921\u001b[0m \u001b[43m        \u001b[49m\u001b[43mby_row\u001b[49m\u001b[38;5;241;43m=\u001b[39;49m\u001b[43mby_row\u001b[49m\u001b[43m,\u001b[49m\n\u001b[1;32m   4922\u001b[0m \u001b[43m        \u001b[49m\u001b[43margs\u001b[49m\u001b[38;5;241;43m=\u001b[39;49m\u001b[43margs\u001b[49m\u001b[43m,\u001b[49m\n\u001b[1;32m   4923\u001b[0m \u001b[43m        \u001b[49m\u001b[43mkwargs\u001b[49m\u001b[38;5;241;43m=\u001b[39;49m\u001b[43mkwargs\u001b[49m\u001b[43m,\u001b[49m\n\u001b[0;32m-> 4924\u001b[0m \u001b[43m    \u001b[49m\u001b[43m)\u001b[49m\u001b[38;5;241;43m.\u001b[39;49m\u001b[43mapply\u001b[49m\u001b[43m(\u001b[49m\u001b[43m)\u001b[49m\n",
      "File \u001b[0;32m/opt/conda/lib/python3.11/site-packages/pandas/core/apply.py:1427\u001b[0m, in \u001b[0;36mSeriesApply.apply\u001b[0;34m(self)\u001b[0m\n\u001b[1;32m   1424\u001b[0m     \u001b[38;5;28;01mreturn\u001b[39;00m \u001b[38;5;28mself\u001b[39m\u001b[38;5;241m.\u001b[39mapply_compat()\n\u001b[1;32m   1426\u001b[0m \u001b[38;5;66;03m# self.func is Callable\u001b[39;00m\n\u001b[0;32m-> 1427\u001b[0m \u001b[38;5;28;01mreturn\u001b[39;00m \u001b[38;5;28;43mself\u001b[39;49m\u001b[38;5;241;43m.\u001b[39;49m\u001b[43mapply_standard\u001b[49m\u001b[43m(\u001b[49m\u001b[43m)\u001b[49m\n",
      "File \u001b[0;32m/opt/conda/lib/python3.11/site-packages/pandas/core/apply.py:1507\u001b[0m, in \u001b[0;36mSeriesApply.apply_standard\u001b[0;34m(self)\u001b[0m\n\u001b[1;32m   1501\u001b[0m \u001b[38;5;66;03m# row-wise access\u001b[39;00m\n\u001b[1;32m   1502\u001b[0m \u001b[38;5;66;03m# apply doesn't have a `na_action` keyword and for backward compat reasons\u001b[39;00m\n\u001b[1;32m   1503\u001b[0m \u001b[38;5;66;03m# we need to give `na_action=\"ignore\"` for categorical data.\u001b[39;00m\n\u001b[1;32m   1504\u001b[0m \u001b[38;5;66;03m# TODO: remove the `na_action=\"ignore\"` when that default has been changed in\u001b[39;00m\n\u001b[1;32m   1505\u001b[0m \u001b[38;5;66;03m#  Categorical (GH51645).\u001b[39;00m\n\u001b[1;32m   1506\u001b[0m action \u001b[38;5;241m=\u001b[39m \u001b[38;5;124m\"\u001b[39m\u001b[38;5;124mignore\u001b[39m\u001b[38;5;124m\"\u001b[39m \u001b[38;5;28;01mif\u001b[39;00m \u001b[38;5;28misinstance\u001b[39m(obj\u001b[38;5;241m.\u001b[39mdtype, CategoricalDtype) \u001b[38;5;28;01melse\u001b[39;00m \u001b[38;5;28;01mNone\u001b[39;00m\n\u001b[0;32m-> 1507\u001b[0m mapped \u001b[38;5;241m=\u001b[39m \u001b[43mobj\u001b[49m\u001b[38;5;241;43m.\u001b[39;49m\u001b[43m_map_values\u001b[49m\u001b[43m(\u001b[49m\n\u001b[1;32m   1508\u001b[0m \u001b[43m    \u001b[49m\u001b[43mmapper\u001b[49m\u001b[38;5;241;43m=\u001b[39;49m\u001b[43mcurried\u001b[49m\u001b[43m,\u001b[49m\u001b[43m \u001b[49m\u001b[43mna_action\u001b[49m\u001b[38;5;241;43m=\u001b[39;49m\u001b[43maction\u001b[49m\u001b[43m,\u001b[49m\u001b[43m \u001b[49m\u001b[43mconvert\u001b[49m\u001b[38;5;241;43m=\u001b[39;49m\u001b[38;5;28;43mself\u001b[39;49m\u001b[38;5;241;43m.\u001b[39;49m\u001b[43mconvert_dtype\u001b[49m\n\u001b[1;32m   1509\u001b[0m \u001b[43m\u001b[49m\u001b[43m)\u001b[49m\n\u001b[1;32m   1511\u001b[0m \u001b[38;5;28;01mif\u001b[39;00m \u001b[38;5;28mlen\u001b[39m(mapped) \u001b[38;5;129;01mand\u001b[39;00m \u001b[38;5;28misinstance\u001b[39m(mapped[\u001b[38;5;241m0\u001b[39m], ABCSeries):\n\u001b[1;32m   1512\u001b[0m     \u001b[38;5;66;03m# GH#43986 Need to do list(mapped) in order to get treated as nested\u001b[39;00m\n\u001b[1;32m   1513\u001b[0m     \u001b[38;5;66;03m#  See also GH#25959 regarding EA support\u001b[39;00m\n\u001b[1;32m   1514\u001b[0m     \u001b[38;5;28;01mreturn\u001b[39;00m obj\u001b[38;5;241m.\u001b[39m_constructor_expanddim(\u001b[38;5;28mlist\u001b[39m(mapped), index\u001b[38;5;241m=\u001b[39mobj\u001b[38;5;241m.\u001b[39mindex)\n",
      "File \u001b[0;32m/opt/conda/lib/python3.11/site-packages/pandas/core/base.py:921\u001b[0m, in \u001b[0;36mIndexOpsMixin._map_values\u001b[0;34m(self, mapper, na_action, convert)\u001b[0m\n\u001b[1;32m    918\u001b[0m \u001b[38;5;28;01mif\u001b[39;00m \u001b[38;5;28misinstance\u001b[39m(arr, ExtensionArray):\n\u001b[1;32m    919\u001b[0m     \u001b[38;5;28;01mreturn\u001b[39;00m arr\u001b[38;5;241m.\u001b[39mmap(mapper, na_action\u001b[38;5;241m=\u001b[39mna_action)\n\u001b[0;32m--> 921\u001b[0m \u001b[38;5;28;01mreturn\u001b[39;00m \u001b[43malgorithms\u001b[49m\u001b[38;5;241;43m.\u001b[39;49m\u001b[43mmap_array\u001b[49m\u001b[43m(\u001b[49m\u001b[43marr\u001b[49m\u001b[43m,\u001b[49m\u001b[43m \u001b[49m\u001b[43mmapper\u001b[49m\u001b[43m,\u001b[49m\u001b[43m \u001b[49m\u001b[43mna_action\u001b[49m\u001b[38;5;241;43m=\u001b[39;49m\u001b[43mna_action\u001b[49m\u001b[43m,\u001b[49m\u001b[43m \u001b[49m\u001b[43mconvert\u001b[49m\u001b[38;5;241;43m=\u001b[39;49m\u001b[43mconvert\u001b[49m\u001b[43m)\u001b[49m\n",
      "File \u001b[0;32m/opt/conda/lib/python3.11/site-packages/pandas/core/algorithms.py:1743\u001b[0m, in \u001b[0;36mmap_array\u001b[0;34m(arr, mapper, na_action, convert)\u001b[0m\n\u001b[1;32m   1741\u001b[0m values \u001b[38;5;241m=\u001b[39m arr\u001b[38;5;241m.\u001b[39mastype(\u001b[38;5;28mobject\u001b[39m, copy\u001b[38;5;241m=\u001b[39m\u001b[38;5;28;01mFalse\u001b[39;00m)\n\u001b[1;32m   1742\u001b[0m \u001b[38;5;28;01mif\u001b[39;00m na_action \u001b[38;5;129;01mis\u001b[39;00m \u001b[38;5;28;01mNone\u001b[39;00m:\n\u001b[0;32m-> 1743\u001b[0m     \u001b[38;5;28;01mreturn\u001b[39;00m \u001b[43mlib\u001b[49m\u001b[38;5;241;43m.\u001b[39;49m\u001b[43mmap_infer\u001b[49m\u001b[43m(\u001b[49m\u001b[43mvalues\u001b[49m\u001b[43m,\u001b[49m\u001b[43m \u001b[49m\u001b[43mmapper\u001b[49m\u001b[43m,\u001b[49m\u001b[43m \u001b[49m\u001b[43mconvert\u001b[49m\u001b[38;5;241;43m=\u001b[39;49m\u001b[43mconvert\u001b[49m\u001b[43m)\u001b[49m\n\u001b[1;32m   1744\u001b[0m \u001b[38;5;28;01melse\u001b[39;00m:\n\u001b[1;32m   1745\u001b[0m     \u001b[38;5;28;01mreturn\u001b[39;00m lib\u001b[38;5;241m.\u001b[39mmap_infer_mask(\n\u001b[1;32m   1746\u001b[0m         values, mapper, mask\u001b[38;5;241m=\u001b[39misna(values)\u001b[38;5;241m.\u001b[39mview(np\u001b[38;5;241m.\u001b[39muint8), convert\u001b[38;5;241m=\u001b[39mconvert\n\u001b[1;32m   1747\u001b[0m     )\n",
      "File \u001b[0;32mlib.pyx:2972\u001b[0m, in \u001b[0;36mpandas._libs.lib.map_infer\u001b[0;34m()\u001b[0m\n",
      "Cell \u001b[0;32mIn[62], line 11\u001b[0m, in \u001b[0;36m<lambda>\u001b[0;34m(x)\u001b[0m\n\u001b[1;32m      8\u001b[0m sia \u001b[38;5;241m=\u001b[39m SentimentIntensityAnalyzer()\n\u001b[1;32m     10\u001b[0m \u001b[38;5;66;03m# Compute sentiment polarity scores\u001b[39;00m\n\u001b[0;32m---> 11\u001b[0m merged_filtered_df[\u001b[38;5;124m\"\u001b[39m\u001b[38;5;124msentiment_polarity\u001b[39m\u001b[38;5;124m\"\u001b[39m] \u001b[38;5;241m=\u001b[39m merged_filtered_df[\u001b[38;5;124m\"\u001b[39m\u001b[38;5;124mtext\u001b[39m\u001b[38;5;124m\"\u001b[39m]\u001b[38;5;241m.\u001b[39mastype(\u001b[38;5;28mstr\u001b[39m)\u001b[38;5;241m.\u001b[39mapply(\u001b[38;5;28;01mlambda\u001b[39;00m x: \u001b[43msia\u001b[49m\u001b[38;5;241;43m.\u001b[39;49m\u001b[43mpolarity_scores\u001b[49m\u001b[43m(\u001b[49m\u001b[43mx\u001b[49m\u001b[43m)\u001b[49m[\u001b[38;5;124m\"\u001b[39m\u001b[38;5;124mcompound\u001b[39m\u001b[38;5;124m\"\u001b[39m])\n",
      "File \u001b[0;32m/opt/conda/lib/python3.11/site-packages/nltk/sentiment/vader.py:366\u001b[0m, in \u001b[0;36mSentimentIntensityAnalyzer.polarity_scores\u001b[0;34m(self, text)\u001b[0m\n\u001b[1;32m    355\u001b[0m \u001b[38;5;250m\u001b[39m\u001b[38;5;124;03m\"\"\"\u001b[39;00m\n\u001b[1;32m    356\u001b[0m \u001b[38;5;124;03mReturn a float for sentiment strength based on the input text.\u001b[39;00m\n\u001b[1;32m    357\u001b[0m \u001b[38;5;124;03mPositive values are positive valence, negative value are negative\u001b[39;00m\n\u001b[0;32m   (...)\u001b[0m\n\u001b[1;32m    363\u001b[0m \u001b[38;5;124;03m    matched as if it was a normal word in the sentence.\u001b[39;00m\n\u001b[1;32m    364\u001b[0m \u001b[38;5;124;03m\"\"\"\u001b[39;00m\n\u001b[1;32m    365\u001b[0m \u001b[38;5;66;03m# text, words_and_emoticons, is_cap_diff = self.preprocess(text)\u001b[39;00m\n\u001b[0;32m--> 366\u001b[0m sentitext \u001b[38;5;241m=\u001b[39m \u001b[43mSentiText\u001b[49m\u001b[43m(\u001b[49m\n\u001b[1;32m    367\u001b[0m \u001b[43m    \u001b[49m\u001b[43mtext\u001b[49m\u001b[43m,\u001b[49m\u001b[43m \u001b[49m\u001b[38;5;28;43mself\u001b[39;49m\u001b[38;5;241;43m.\u001b[39;49m\u001b[43mconstants\u001b[49m\u001b[38;5;241;43m.\u001b[39;49m\u001b[43mPUNC_LIST\u001b[49m\u001b[43m,\u001b[49m\u001b[43m \u001b[49m\u001b[38;5;28;43mself\u001b[39;49m\u001b[38;5;241;43m.\u001b[39;49m\u001b[43mconstants\u001b[49m\u001b[38;5;241;43m.\u001b[39;49m\u001b[43mREGEX_REMOVE_PUNCTUATION\u001b[49m\n\u001b[1;32m    368\u001b[0m \u001b[43m\u001b[49m\u001b[43m)\u001b[49m\n\u001b[1;32m    369\u001b[0m sentiments \u001b[38;5;241m=\u001b[39m []\n\u001b[1;32m    370\u001b[0m words_and_emoticons \u001b[38;5;241m=\u001b[39m sentitext\u001b[38;5;241m.\u001b[39mwords_and_emoticons\n",
      "File \u001b[0;32m/opt/conda/lib/python3.11/site-packages/nltk/sentiment/vader.py:274\u001b[0m, in \u001b[0;36mSentiText.__init__\u001b[0;34m(self, text, punc_list, regex_remove_punctuation)\u001b[0m\n\u001b[1;32m    272\u001b[0m \u001b[38;5;28mself\u001b[39m\u001b[38;5;241m.\u001b[39mPUNC_LIST \u001b[38;5;241m=\u001b[39m punc_list\n\u001b[1;32m    273\u001b[0m \u001b[38;5;28mself\u001b[39m\u001b[38;5;241m.\u001b[39mREGEX_REMOVE_PUNCTUATION \u001b[38;5;241m=\u001b[39m regex_remove_punctuation\n\u001b[0;32m--> 274\u001b[0m \u001b[38;5;28mself\u001b[39m\u001b[38;5;241m.\u001b[39mwords_and_emoticons \u001b[38;5;241m=\u001b[39m \u001b[38;5;28;43mself\u001b[39;49m\u001b[38;5;241;43m.\u001b[39;49m\u001b[43m_words_and_emoticons\u001b[49m\u001b[43m(\u001b[49m\u001b[43m)\u001b[49m\n\u001b[1;32m    275\u001b[0m \u001b[38;5;66;03m# doesn't separate words from\u001b[39;00m\n\u001b[1;32m    276\u001b[0m \u001b[38;5;66;03m# adjacent punctuation (keeps emoticons & contractions)\u001b[39;00m\n\u001b[1;32m    277\u001b[0m \u001b[38;5;28mself\u001b[39m\u001b[38;5;241m.\u001b[39mis_cap_diff \u001b[38;5;241m=\u001b[39m \u001b[38;5;28mself\u001b[39m\u001b[38;5;241m.\u001b[39mallcap_differential(\u001b[38;5;28mself\u001b[39m\u001b[38;5;241m.\u001b[39mwords_and_emoticons)\n",
      "File \u001b[0;32m/opt/conda/lib/python3.11/site-packages/nltk/sentiment/vader.py:306\u001b[0m, in \u001b[0;36mSentiText._words_and_emoticons\u001b[0;34m(self)\u001b[0m\n\u001b[1;32m    300\u001b[0m \u001b[38;5;250m\u001b[39m\u001b[38;5;124;03m\"\"\"\u001b[39;00m\n\u001b[1;32m    301\u001b[0m \u001b[38;5;124;03mRemoves leading and trailing puncutation\u001b[39;00m\n\u001b[1;32m    302\u001b[0m \u001b[38;5;124;03mLeaves contractions and most emoticons\u001b[39;00m\n\u001b[1;32m    303\u001b[0m \u001b[38;5;124;03m    Does not preserve punc-plus-letter emoticons (e.g. :D)\u001b[39;00m\n\u001b[1;32m    304\u001b[0m \u001b[38;5;124;03m\"\"\"\u001b[39;00m\n\u001b[1;32m    305\u001b[0m wes \u001b[38;5;241m=\u001b[39m \u001b[38;5;28mself\u001b[39m\u001b[38;5;241m.\u001b[39mtext\u001b[38;5;241m.\u001b[39msplit()\n\u001b[0;32m--> 306\u001b[0m words_punc_dict \u001b[38;5;241m=\u001b[39m \u001b[38;5;28;43mself\u001b[39;49m\u001b[38;5;241;43m.\u001b[39;49m\u001b[43m_words_plus_punc\u001b[49m\u001b[43m(\u001b[49m\u001b[43m)\u001b[49m\n\u001b[1;32m    307\u001b[0m wes \u001b[38;5;241m=\u001b[39m [we \u001b[38;5;28;01mfor\u001b[39;00m we \u001b[38;5;129;01min\u001b[39;00m wes \u001b[38;5;28;01mif\u001b[39;00m \u001b[38;5;28mlen\u001b[39m(we) \u001b[38;5;241m>\u001b[39m \u001b[38;5;241m1\u001b[39m]\n\u001b[1;32m    308\u001b[0m \u001b[38;5;28;01mfor\u001b[39;00m i, we \u001b[38;5;129;01min\u001b[39;00m \u001b[38;5;28menumerate\u001b[39m(wes):\n",
      "File \u001b[0;32m/opt/conda/lib/python3.11/site-packages/nltk/sentiment/vader.py:293\u001b[0m, in \u001b[0;36mSentiText._words_plus_punc\u001b[0;34m(self)\u001b[0m\n\u001b[1;32m    291\u001b[0m words_only \u001b[38;5;241m=\u001b[39m {w \u001b[38;5;28;01mfor\u001b[39;00m w \u001b[38;5;129;01min\u001b[39;00m words_only \u001b[38;5;28;01mif\u001b[39;00m \u001b[38;5;28mlen\u001b[39m(w) \u001b[38;5;241m>\u001b[39m \u001b[38;5;241m1\u001b[39m}\n\u001b[1;32m    292\u001b[0m \u001b[38;5;66;03m# the product gives ('cat', ',') and (',', 'cat')\u001b[39;00m\n\u001b[0;32m--> 293\u001b[0m punc_before \u001b[38;5;241m=\u001b[39m \u001b[43m{\u001b[49m\u001b[38;5;124;43m\"\u001b[39;49m\u001b[38;5;124;43m\"\u001b[39;49m\u001b[38;5;241;43m.\u001b[39;49m\u001b[43mjoin\u001b[49m\u001b[43m(\u001b[49m\u001b[43mp\u001b[49m\u001b[43m)\u001b[49m\u001b[43m:\u001b[49m\u001b[43m \u001b[49m\u001b[43mp\u001b[49m\u001b[43m[\u001b[49m\u001b[38;5;241;43m1\u001b[39;49m\u001b[43m]\u001b[49m\u001b[43m \u001b[49m\u001b[38;5;28;43;01mfor\u001b[39;49;00m\u001b[43m \u001b[49m\u001b[43mp\u001b[49m\u001b[43m \u001b[49m\u001b[38;5;129;43;01min\u001b[39;49;00m\u001b[43m \u001b[49m\u001b[43mproduct\u001b[49m\u001b[43m(\u001b[49m\u001b[38;5;28;43mself\u001b[39;49m\u001b[38;5;241;43m.\u001b[39;49m\u001b[43mPUNC_LIST\u001b[49m\u001b[43m,\u001b[49m\u001b[43m \u001b[49m\u001b[43mwords_only\u001b[49m\u001b[43m)\u001b[49m\u001b[43m}\u001b[49m\n\u001b[1;32m    294\u001b[0m punc_after \u001b[38;5;241m=\u001b[39m {\u001b[38;5;124m\"\u001b[39m\u001b[38;5;124m\"\u001b[39m\u001b[38;5;241m.\u001b[39mjoin(p): p[\u001b[38;5;241m0\u001b[39m] \u001b[38;5;28;01mfor\u001b[39;00m p \u001b[38;5;129;01min\u001b[39;00m product(words_only, \u001b[38;5;28mself\u001b[39m\u001b[38;5;241m.\u001b[39mPUNC_LIST)}\n\u001b[1;32m    295\u001b[0m words_punc_dict \u001b[38;5;241m=\u001b[39m punc_before\n",
      "File \u001b[0;32m/opt/conda/lib/python3.11/site-packages/nltk/sentiment/vader.py:293\u001b[0m, in \u001b[0;36m<dictcomp>\u001b[0;34m(.0)\u001b[0m\n\u001b[1;32m    291\u001b[0m words_only \u001b[38;5;241m=\u001b[39m {w \u001b[38;5;28;01mfor\u001b[39;00m w \u001b[38;5;129;01min\u001b[39;00m words_only \u001b[38;5;28;01mif\u001b[39;00m \u001b[38;5;28mlen\u001b[39m(w) \u001b[38;5;241m>\u001b[39m \u001b[38;5;241m1\u001b[39m}\n\u001b[1;32m    292\u001b[0m \u001b[38;5;66;03m# the product gives ('cat', ',') and (',', 'cat')\u001b[39;00m\n\u001b[0;32m--> 293\u001b[0m punc_before \u001b[38;5;241m=\u001b[39m {\u001b[38;5;124m\"\u001b[39m\u001b[38;5;124m\"\u001b[39m\u001b[38;5;241m.\u001b[39mjoin(p): p[\u001b[38;5;241m1\u001b[39m] \u001b[38;5;28;01mfor\u001b[39;00m p \u001b[38;5;129;01min\u001b[39;00m product(\u001b[38;5;28mself\u001b[39m\u001b[38;5;241m.\u001b[39mPUNC_LIST, words_only)}\n\u001b[1;32m    294\u001b[0m punc_after \u001b[38;5;241m=\u001b[39m {\u001b[38;5;124m\"\u001b[39m\u001b[38;5;124m\"\u001b[39m\u001b[38;5;241m.\u001b[39mjoin(p): p[\u001b[38;5;241m0\u001b[39m] \u001b[38;5;28;01mfor\u001b[39;00m p \u001b[38;5;129;01min\u001b[39;00m product(words_only, \u001b[38;5;28mself\u001b[39m\u001b[38;5;241m.\u001b[39mPUNC_LIST)}\n\u001b[1;32m    295\u001b[0m words_punc_dict \u001b[38;5;241m=\u001b[39m punc_before\n",
      "\u001b[0;31mKeyboardInterrupt\u001b[0m: "
     ]
    }
   ],
   "source": [
    "from nltk.sentiment import SentimentIntensityAnalyzer\n",
    "import nltk\n",
    "\n",
    "# Download VADER lexicon (if not already downloaded)\n",
    "nltk.download('vader_lexicon')\n",
    "\n",
    "# Initialize the sentiment analyzer\n",
    "sia = SentimentIntensityAnalyzer()\n",
    "\n",
    "# Compute sentiment polarity scores\n",
    "merged_filtered_df[\"sentiment_polarity\"] = merged_filtered_df[\"text\"].astype(str).apply(lambda x: sia.polarity_scores(x)[\"compound\"])"
   ]
  },
  {
   "cell_type": "code",
   "execution_count": 48,
   "id": "2b6bc299-9d33-4a61-aee4-7ecebe1a4ad4",
   "metadata": {
    "execution": {
     "iopub.execute_input": "2025-03-03T19:46:18.028228Z",
     "iopub.status.busy": "2025-03-03T19:46:18.027877Z",
     "iopub.status.idle": "2025-03-03T19:46:18.036644Z",
     "shell.execute_reply": "2025-03-03T19:46:18.036102Z",
     "shell.execute_reply.started": "2025-03-03T19:46:18.028206Z"
    }
   },
   "outputs": [
    {
     "name": "stdout",
     "output_type": "stream",
     "text": [
      "<class 'pandas.core.frame.DataFrame'>\n",
      "Index: 1930795 entries, 2 to 6990279\n",
      "Data columns (total 15 columns):\n",
      " #   Column              Dtype         \n",
      "---  ------              -----         \n",
      " 0   review_id           object        \n",
      " 1   user_id             object        \n",
      " 2   business_id         object        \n",
      " 3   stars_x             int64         \n",
      " 4   useful              int64         \n",
      " 5   funny               int64         \n",
      " 6   cool                int64         \n",
      " 7   text                object        \n",
      " 8   date                datetime64[ns]\n",
      " 9   state               object        \n",
      " 10  stars_y             float64       \n",
      " 11  review_count        int64         \n",
      " 12  attributes          object        \n",
      " 13  categories          object        \n",
      " 14  sentiment_polarity  float64       \n",
      "dtypes: datetime64[ns](1), float64(2), int64(5), object(7)\n",
      "memory usage: 235.7+ MB\n"
     ]
    }
   ],
   "source": [
    "merged_filtered_df.info()"
   ]
  },
  {
   "cell_type": "code",
   "execution_count": 43,
   "id": "3f4d9a57-3417-4144-acd3-cdf1a407dcc2",
   "metadata": {
    "execution": {
     "iopub.execute_input": "2025-03-03T19:12:11.250296Z",
     "iopub.status.busy": "2025-03-03T19:12:11.249969Z",
     "iopub.status.idle": "2025-03-03T19:12:12.792397Z",
     "shell.execute_reply": "2025-03-03T19:12:12.791629Z",
     "shell.execute_reply.started": "2025-03-03T19:12:11.250274Z"
    }
   },
   "outputs": [
    {
     "name": "stdout",
     "output_type": "stream",
     "text": [
      "Requirement already satisfied: s3fs==2023.9.2 in /opt/conda/lib/python3.11/site-packages (2023.9.2)\n",
      "Requirement already satisfied: aiobotocore~=2.5.4 in /opt/conda/lib/python3.11/site-packages (from s3fs==2023.9.2) (2.5.4)\n",
      "Requirement already satisfied: fsspec==2023.9.2 in /opt/conda/lib/python3.11/site-packages (from s3fs==2023.9.2) (2023.9.2)\n",
      "Requirement already satisfied: aiohttp!=4.0.0a0,!=4.0.0a1 in /opt/conda/lib/python3.11/site-packages (from s3fs==2023.9.2) (3.9.5)\n",
      "Requirement already satisfied: botocore<1.31.18,>=1.31.17 in /opt/conda/lib/python3.11/site-packages (from aiobotocore~=2.5.4->s3fs==2023.9.2) (1.31.17)\n",
      "Requirement already satisfied: wrapt<2.0.0,>=1.10.10 in /opt/conda/lib/python3.11/site-packages (from aiobotocore~=2.5.4->s3fs==2023.9.2) (1.17.2)\n",
      "Requirement already satisfied: aioitertools<1.0.0,>=0.5.1 in /opt/conda/lib/python3.11/site-packages (from aiobotocore~=2.5.4->s3fs==2023.9.2) (0.12.0)\n",
      "Requirement already satisfied: aiosignal>=1.1.2 in /opt/conda/lib/python3.11/site-packages (from aiohttp!=4.0.0a0,!=4.0.0a1->s3fs==2023.9.2) (1.3.2)\n",
      "Requirement already satisfied: attrs>=17.3.0 in /opt/conda/lib/python3.11/site-packages (from aiohttp!=4.0.0a0,!=4.0.0a1->s3fs==2023.9.2) (23.2.0)\n",
      "Requirement already satisfied: frozenlist>=1.1.1 in /opt/conda/lib/python3.11/site-packages (from aiohttp!=4.0.0a0,!=4.0.0a1->s3fs==2023.9.2) (1.5.0)\n",
      "Requirement already satisfied: multidict<7.0,>=4.5 in /opt/conda/lib/python3.11/site-packages (from aiohttp!=4.0.0a0,!=4.0.0a1->s3fs==2023.9.2) (6.1.0)\n",
      "Requirement already satisfied: yarl<2.0,>=1.0 in /opt/conda/lib/python3.11/site-packages (from aiohttp!=4.0.0a0,!=4.0.0a1->s3fs==2023.9.2) (1.18.3)\n",
      "Requirement already satisfied: jmespath<2.0.0,>=0.7.1 in /opt/conda/lib/python3.11/site-packages (from botocore<1.31.18,>=1.31.17->aiobotocore~=2.5.4->s3fs==2023.9.2) (1.0.1)\n",
      "Requirement already satisfied: python-dateutil<3.0.0,>=2.1 in /opt/conda/lib/python3.11/site-packages (from botocore<1.31.18,>=1.31.17->aiobotocore~=2.5.4->s3fs==2023.9.2) (2.9.0.post0)\n",
      "Requirement already satisfied: urllib3<1.27,>=1.25.4 in /opt/conda/lib/python3.11/site-packages (from botocore<1.31.18,>=1.31.17->aiobotocore~=2.5.4->s3fs==2023.9.2) (1.26.19)\n",
      "Requirement already satisfied: idna>=2.0 in /opt/conda/lib/python3.11/site-packages (from yarl<2.0,>=1.0->aiohttp!=4.0.0a0,!=4.0.0a1->s3fs==2023.9.2) (3.10)\n",
      "Requirement already satisfied: propcache>=0.2.0 in /opt/conda/lib/python3.11/site-packages (from yarl<2.0,>=1.0->aiohttp!=4.0.0a0,!=4.0.0a1->s3fs==2023.9.2) (0.2.1)\n",
      "Requirement already satisfied: six>=1.5 in /opt/conda/lib/python3.11/site-packages (from python-dateutil<3.0.0,>=2.1->botocore<1.31.18,>=1.31.17->aiobotocore~=2.5.4->s3fs==2023.9.2) (1.17.0)\n"
     ]
    }
   ],
   "source": [
    "!pip install s3fs==2023.9.2"
   ]
  },
  {
   "cell_type": "code",
   "execution_count": 44,
   "id": "275636e7-d3d9-4025-9ff0-d1c2c52f8a66",
   "metadata": {
    "execution": {
     "iopub.execute_input": "2025-03-03T19:12:15.640515Z",
     "iopub.status.busy": "2025-03-03T19:12:15.640155Z",
     "iopub.status.idle": "2025-03-03T19:12:15.643721Z",
     "shell.execute_reply": "2025-03-03T19:12:15.643127Z",
     "shell.execute_reply.started": "2025-03-03T19:12:15.640486Z"
    }
   },
   "outputs": [],
   "source": [
    "import s3fs"
   ]
  },
  {
   "cell_type": "code",
   "execution_count": 45,
   "id": "292736af-51f2-4c4a-a4c9-09d15d3b2d41",
   "metadata": {
    "execution": {
     "iopub.execute_input": "2025-03-03T19:12:17.841682Z",
     "iopub.status.busy": "2025-03-03T19:12:17.841352Z",
     "iopub.status.idle": "2025-03-03T19:12:17.844541Z",
     "shell.execute_reply": "2025-03-03T19:12:17.843973Z",
     "shell.execute_reply.started": "2025-03-03T19:12:17.841661Z"
    }
   },
   "outputs": [],
   "source": [
    "s3_bucket_path = 's3://amazon-sagemaker-058264306111-us-east-1-e23504aef6c5/dzd_5l5kah6gnsnq3r/bpy4qb7wovbqjr//dev/'"
   ]
  },
  {
   "cell_type": "code",
   "execution_count": 46,
   "id": "1bb6976a-f081-4555-80f8-9c360e321c63",
   "metadata": {
    "execution": {
     "iopub.execute_input": "2025-03-03T19:12:28.253039Z",
     "iopub.status.busy": "2025-03-03T19:12:28.252697Z",
     "iopub.status.idle": "2025-03-03T19:15:29.327113Z",
     "shell.execute_reply": "2025-03-03T19:15:29.326534Z",
     "shell.execute_reply.started": "2025-03-03T19:12:28.253017Z"
    }
   },
   "outputs": [],
   "source": [
    "merged_filtered_df.to_csv(s3_bucket_path+'/final_filtered_data.csv', index=False)"
   ]
  },
  {
   "cell_type": "code",
   "execution_count": 54,
   "id": "6d6e8d34-d4c8-4baf-8a3f-0fa09929ab38",
   "metadata": {
    "execution": {
     "iopub.execute_input": "2025-03-03T19:57:20.452420Z",
     "iopub.status.busy": "2025-03-03T19:57:20.452075Z",
     "iopub.status.idle": "2025-03-03T19:57:20.769714Z",
     "shell.execute_reply": "2025-03-03T19:57:20.769091Z",
     "shell.execute_reply.started": "2025-03-03T19:57:20.452397Z"
    }
   },
   "outputs": [
    {
     "name": "stdout",
     "output_type": "stream",
     "text": [
      "<class 'pandas.core.frame.DataFrame'>\n",
      "Index: 1930795 entries, 2 to 6990279\n",
      "Data columns (total 12 columns):\n",
      " #   Column              Dtype         \n",
      "---  ------              -----         \n",
      " 0   review_id           object        \n",
      " 1   user_id             object        \n",
      " 2   business_id         object        \n",
      " 3   stars_x             int64         \n",
      " 4   useful              int64         \n",
      " 5   funny               int64         \n",
      " 6   cool                int64         \n",
      " 7   date                datetime64[ns]\n",
      " 8   state               object        \n",
      " 9   stars_y             float64       \n",
      " 10  review_count        int64         \n",
      " 11  sentiment_polarity  float64       \n",
      "dtypes: datetime64[ns](1), float64(2), int64(5), object(4)\n",
      "memory usage: 191.5+ MB\n"
     ]
    }
   ],
   "source": [
    "df_without_text = merged_filtered_df.drop(columns=[\"text\", \"categories\", \"attributes\"])\n",
    "\n",
    "df_without_text.info()"
   ]
  },
  {
   "cell_type": "code",
   "execution_count": 55,
   "id": "8eb2a7a4-d305-442e-8ee2-d7721cb6d4c3",
   "metadata": {
    "execution": {
     "iopub.execute_input": "2025-03-03T19:57:57.953166Z",
     "iopub.status.busy": "2025-03-03T19:57:57.952840Z",
     "iopub.status.idle": "2025-03-03T19:58:10.185219Z",
     "shell.execute_reply": "2025-03-03T19:58:10.184691Z",
     "shell.execute_reply.started": "2025-03-03T19:57:57.953145Z"
    }
   },
   "outputs": [
    {
     "name": "stdout",
     "output_type": "stream",
     "text": [
      "                      review_id                 user_id  \\\n",
      "6990258  e2owJAzHYo89x88eReSqGg  QYZM8lgZn2HL_OWYAn7E1A   \n",
      "6990260  nLjbVsETpqO17RbFcqskkA  am7-gkH_PDz598oTdYSD6A   \n",
      "6990269  cACxcUY_AIsQKkpDRXuqnw  MCzlzlOw7IGbRAKVjJBPtg   \n",
      "6990270  7NgXAuTFiJHYbuepOPwU0w  x1QLCwZGFAjxRRw4EHc3-g   \n",
      "6990279  RwcKOdEuLRHNJe4M9-qpqg  6JehEvdoCvZPJ_XIxnzIIw   \n",
      "\n",
      "                    business_id  stars_x  useful  funny  cool  \\\n",
      "6990258  nrXtCSdfWg0TJ86onEZWkg        4       1      0     0   \n",
      "6990260  3gVSrS4kffGGZT8oXHsIcw        3       2      0     2   \n",
      "6990269  fcGexL5VH5G2Xw0tRj9uOQ        3       1      1     0   \n",
      "6990270  1_BVWDzi5cVqWxNe9bOMMQ        5       1      0     1   \n",
      "6990279  VAeEXLbEcI9Emt9KGYq9aA        3      10      3     7   \n",
      "\n",
      "                       date state  stars_y  review_count  sentiment_polarity  \n",
      "6990258 2018-02-13 19:50:01    LA      4.0           279              0.9227  \n",
      "6990260 2014-11-03 14:45:46    PA      3.5           797              0.9819  \n",
      "6990269 2018-03-13 13:54:48    PA      3.5           214              0.8728  \n",
      "6990270 2016-04-30 01:02:34    MO      3.5            55              0.9839  \n",
      "6990279 2018-01-02 22:50:47    TN      4.0          3054              0.9882  \n"
     ]
    }
   ],
   "source": [
    "filtered_csv = \"notext_filtered_reviews.csv\"\n",
    "df_without_text.to_csv(filtered_csv, index=False)\n",
    "print(df_without_text.tail())"
   ]
  },
  {
   "cell_type": "code",
   "execution_count": null,
   "id": "bde13f34-c97d-433a-8e87-922d25789f50",
   "metadata": {},
   "outputs": [],
   "source": []
  },
  {
   "cell_type": "code",
   "execution_count": null,
   "id": "7586f33a-04be-4a5c-a752-afedd97eecef",
   "metadata": {},
   "outputs": [],
   "source": []
  }
 ],
 "metadata": {
  "kernelspec": {
   "display_name": "Python 3 (ipykernel)",
   "language": "python",
   "name": "python3"
  },
  "language_info": {
   "codemirror_mode": {
    "name": "ipython",
    "version": 3
   },
   "file_extension": ".py",
   "mimetype": "text/x-python",
   "name": "python",
   "nbconvert_exporter": "python",
   "pygments_lexer": "ipython3",
   "version": "3.11.11"
  }
 },
 "nbformat": 4,
 "nbformat_minor": 5
}
